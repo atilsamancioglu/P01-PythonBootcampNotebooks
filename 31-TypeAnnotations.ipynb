{
 "cells": [
  {
   "cell_type": "code",
   "execution_count": 1,
   "id": "69d813c2",
   "metadata": {},
   "outputs": [],
   "source": [
    "name: str = \"Atıl\"\n",
    "age: int = 30\n",
    "is_student: bool = False"
   ]
  },
  {
   "cell_type": "code",
   "execution_count": 2,
   "id": "9957cc4a",
   "metadata": {},
   "outputs": [],
   "source": [
    "def add_numbers(a: int, b: int) -> int:\n",
    "    return a + b"
   ]
  },
  {
   "cell_type": "code",
   "execution_count": 3,
   "id": "384a1edc",
   "metadata": {},
   "outputs": [
    {
     "data": {
      "text/plain": [
       "50"
      ]
     },
     "execution_count": 3,
     "metadata": {},
     "output_type": "execute_result"
    }
   ],
   "source": [
    "add_numbers(20,30)"
   ]
  },
  {
   "cell_type": "code",
   "execution_count": 4,
   "id": "81642618",
   "metadata": {},
   "outputs": [],
   "source": [
    "#python 3.10 and above\n",
    "def process_value(value: int | str) -> str:\n",
    "    if isinstance(value, int):\n",
    "        return f\"Processed integer: {value}\"\n",
    "    else:\n",
    "        return f\"Processed string: {value}\""
   ]
  },
  {
   "cell_type": "code",
   "execution_count": 5,
   "id": "955c09fe",
   "metadata": {},
   "outputs": [
    {
     "data": {
      "text/plain": [
       "'Processed integer: 10'"
      ]
     },
     "execution_count": 5,
     "metadata": {},
     "output_type": "execute_result"
    }
   ],
   "source": [
    "process_value(10)"
   ]
  },
  {
   "cell_type": "code",
   "execution_count": 6,
   "id": "708851f0",
   "metadata": {},
   "outputs": [
    {
     "data": {
      "text/plain": [
       "'Processed string: 10'"
      ]
     },
     "execution_count": 6,
     "metadata": {},
     "output_type": "execute_result"
    }
   ],
   "source": [
    "process_value(\"10\")"
   ]
  },
  {
   "cell_type": "code",
   "execution_count": 7,
   "id": "7c45034d",
   "metadata": {},
   "outputs": [],
   "source": [
    "#python 3.9 and above\n",
    "from typing import List\n",
    "\n",
    "def sum_list(numbers: List[int]) -> int:\n",
    "    return sum(numbers)\n",
    "\n",
    "numbers = [1, 2, 3, 4]\n",
    "total = sum_list(numbers)"
   ]
  },
  {
   "cell_type": "code",
   "execution_count": 8,
   "id": "881b8ecf",
   "metadata": {},
   "outputs": [
    {
     "data": {
      "text/plain": [
       "10"
      ]
     },
     "execution_count": 8,
     "metadata": {},
     "output_type": "execute_result"
    }
   ],
   "source": [
    "total"
   ]
  },
  {
   "cell_type": "code",
   "execution_count": null,
   "id": "fe59c302",
   "metadata": {},
   "outputs": [],
   "source": []
  }
 ],
 "metadata": {
  "kernelspec": {
   "display_name": "Python 3 (ipykernel)",
   "language": "python",
   "name": "python3"
  },
  "language_info": {
   "codemirror_mode": {
    "name": "ipython",
    "version": 3
   },
   "file_extension": ".py",
   "mimetype": "text/x-python",
   "name": "python",
   "nbconvert_exporter": "python",
   "pygments_lexer": "ipython3",
   "version": "3.10.9"
  }
 },
 "nbformat": 4,
 "nbformat_minor": 5
}
